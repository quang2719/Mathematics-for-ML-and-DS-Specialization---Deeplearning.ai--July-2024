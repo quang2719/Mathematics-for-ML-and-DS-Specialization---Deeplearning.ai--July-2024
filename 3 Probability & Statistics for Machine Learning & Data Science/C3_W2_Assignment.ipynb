{
 "cells": [
  {
   "cell_type": "markdown",
   "id": "4caafec3",
   "metadata": {},
   "source": [
    "# Loaded dice \n",
    "\n",
    "Welcome to the second assignment in the course Probability and Statistics for Machine Learning and Data Science! In this quiz-like assignment you will test your intuition about the concepts covered in the lectures by taking the example with the dice to the next level. \n",
    "\n",
    "**This assignment can be completed with just pencil and paper, or even your intuition about probability, but in many questions using the skills you're developing as a programmer may help**. "
   ]
  },
  {
   "cell_type": "markdown",
   "id": "3bff9c20",
   "metadata": {},
   "source": [
    "## 1 - Introduction\n",
    "\n",
    "You will be presented with 11 questions regarding a several dice games. Sometimes the dice is loaded, sometimes it is not. You will have clear instructions for each exercise.\n",
    "\n",
    "### 1.1 How to go through the assignment\n",
    "\n",
    "In each exercise you there will be a question about throwing some dice that may or may not be loaded. You will have to answer questions about the results of each scenario, such as calculating the expected value of the dice throw or selecting the graph that best represents the distribution of outcomes. \n",
    "\n",
    "In any case, **you will be able to solve the exercise with one of the following methods:**\n",
    "\n",
    "- **By hand:** You may make your calculations by hand, using the theory you have developed in the lectures.\n",
    "- **Using Python:** You may use the empty block of code provided to make computations and simulations, to obtain the result.\n",
    "\n",
    "After each exercise you will save your solution by running a special code cell and adding your answer. The cells contain a single line of code in the format `utils.exercise_1()` which will launch the interface in which you can save your answer. **You will save your responses to each exercise as you go, but you won't submit all your responses for grading until you submit this assignment at the end.**\n",
    "\n",
    "Let's go over an example! Before, let's import the necessary libraries."
   ]
  },
  {
   "cell_type": "markdown",
   "id": "3d256624",
   "metadata": {},
   "source": [
    "## 2 - Importing the libraries"
   ]
  },
  {
   "cell_type": "code",
   "execution_count": 30,
   "id": "da0fcf2f",
   "metadata": {},
   "outputs": [],
   "source": [
    "import numpy as np\n",
    "import pandas as pd\n",
    "import seaborn as sns\n",
    "import matplotlib.pyplot as plt\n",
    "import utils"
   ]
  },
  {
   "cell_type": "markdown",
   "id": "e1637bc9",
   "metadata": {},
   "source": [
    "## 3 - A worked example on how to complete this assignment.\n",
    "\n",
    "Now let's go over one example question, so you understand how to go through the assignment.\n",
    "\n",
    "### 3.1 Example question\n",
    "\n",
    "Question: Given a 6-sided fair dice, you throw it two times and save the result. What is the probability that the sum of your two throws is greater than 5? (Give your result with 1 decimal place).\n",
    "\n",
    "After the question, you will see the following block of code."
   ]
  },
  {
   "cell_type": "code",
   "execution_count": 31,
   "id": "c789233e",
   "metadata": {},
   "outputs": [],
   "source": [
    "# You can use this cell for your calculations (not graded)\n"
   ]
  },
  {
   "cell_type": "markdown",
   "id": "02528065",
   "metadata": {},
   "source": [
    "You may use it as you wish to solve the exercise. Or you can just ignore it and use pencil and pen to solve. It is up to you! **You will only save your final answer**. \n",
    "\n",
    "### 3.2 Solving using simulations in Python\n",
    "\n",
    "Let's solve this question in both ways. First, using Python. You may check the ungraded lab Dice Simulations that appears right before this assignment to help you simulate dice throws. Remember that, to get a good approximation, you need to simulate it a lot of times! You will see why this is true in the following weeks, but this is quite intuitive."
   ]
  },
  {
   "cell_type": "code",
   "execution_count": 32,
   "id": "309a3457",
   "metadata": {},
   "outputs": [
    {
     "name": "stdout",
     "output_type": "stream",
     "text": [
      "The probability by this simulation is: 0.719\n"
     ]
    }
   ],
   "source": [
    "# You can use this cell for your calculations (not graded)\n",
    "\n",
    "# This list represents each dice side\n",
    "dice = [1,2,3,4,5,6]\n",
    "\n",
    "# The idea is to randomly choose one element from this list three times and sum them. \n",
    "# Each time we choose, it is as if we had thrown a dice and the side is the chosen number.\n",
    "# This list will store the sum for each iteration. The idea is to repeat this experiment several times.\n",
    "sum_results = []\n",
    "\n",
    "number_iterations = 1000\n",
    "\n",
    "# Setting a random seed just for reproducibility\n",
    "np.random.seed(42)\n",
    "# It will play this game number_iteration times\n",
    "for i in range(number_iterations):\n",
    "    # Throw the first dice\n",
    "    throw_1 = np.random.choice(dice)\n",
    "    # Throw the second dice\n",
    "    throw_2 = np.random.choice(dice)\n",
    "    # Sum the result\n",
    "    sum_throw = throw_1 + throw_2\n",
    "    # Append to the sum_result list\n",
    "    sum_results.append(sum_throw)\n",
    "\n",
    "# After recording all the sums, the actual probability will be very close to the proportion among every sum greater than 10 in the sum_results list.\n",
    "greater_5_count = 0\n",
    "\n",
    "for x in sum_results:\n",
    "    if x > 5:\n",
    "        greater_5_count += 1\n",
    "\n",
    "probability = greater_5_count/len(sum_results)    \n",
    "print(f\"The probability by this simulation is: {probability}\")"
   ]
  },
  {
   "cell_type": "markdown",
   "id": "37524317",
   "metadata": {},
   "source": [
    "So the result you would get, rounding in to decimal place, would be 0.7! Let's solve it \"by hand\".\n",
    "\n",
    "### 3.3 Solving using the theory\n",
    "\n",
    "When throwing two dice, there are $36$ possible outcomes:\n",
    "\n",
    "$$(1,1), (1,2), \\ldots, (6,6)$$\n",
    "\n",
    "You must count how many of them lead to a sum greater than 5. They are:\n",
    "\n",
    "* If the first throw is $1$, there are $2$ possibilities for the second throw: 5 or 6.\n",
    "* If the first throw is $2$, there are $3$ possibilities for the second throw: 4, 5 or 6.\n",
    "* If the first throw is $3$, there are $4$ possibilities for the second throw: 3, 4, 5 or 6.\n",
    "* If the first throw is $4$, there are $5$ possibilities for the second throw: 2, 3, 4, 5 or 6.\n",
    "* If the first throw is $5$, there are $6$ possibilities for the second throw: 1, 2, 3, 4, 5 or 6.\n",
    "* If the first throw is $6$, there are $6$ possibilities for the second throw: 1, 2, 3, 4, 5 or 6.\n",
    "\n",
    "So, in total there are $2 + 3 + 4 + 5 + 6 + 6 = 26$, possibilities that sum greater than 5.\n",
    "\n",
    "The probability is then $\\frac{26}{36} \\approx 0.72$. Rounding it to 1 decimal place, the result is also 0.7!\n"
   ]
  },
  {
   "cell_type": "markdown",
   "id": "29b9f3ed",
   "metadata": {},
   "source": [
    "### 3.4 Saving your answer\n",
    "\n",
    "Once you get your answer in hands, it is time to save it. Run the next code below to see what it will look like. You just add your answer as requested and click on \"Save your answer!\""
   ]
  },
  {
   "cell_type": "code",
   "execution_count": 33,
   "id": "38539358",
   "metadata": {},
   "outputs": [
    {
     "data": {
      "application/vnd.jupyter.widget-view+json": {
       "model_id": "d5b67ce1791c47ce91edc71b9c56a7d9",
       "version_major": 2,
       "version_minor": 0
      },
      "text/plain": [
       "FloatText(value=0.0, description='Probability:')"
      ]
     },
     "metadata": {},
     "output_type": "display_data"
    },
    {
     "data": {
      "application/vnd.jupyter.widget-view+json": {
       "model_id": "4d46d7162f54428f8b3f48c98eee3b9f",
       "version_major": 2,
       "version_minor": 0
      },
      "text/plain": [
       "Button(button_style='success', description='Save your answer!', style=ButtonStyle())"
      ]
     },
     "metadata": {},
     "output_type": "display_data"
    },
    {
     "data": {
      "application/vnd.jupyter.widget-view+json": {
       "model_id": "bac35d7d4aaa443f992b4d5809628614",
       "version_major": 2,
       "version_minor": 0
      },
      "text/plain": [
       "Output()"
      ]
     },
     "metadata": {},
     "output_type": "display_data"
    }
   ],
   "source": [
    "utils.exercise_example()"
   ]
  },
  {
   "cell_type": "markdown",
   "id": "73d4776c",
   "metadata": {},
   "source": [
    "And that's it! Once you save one question, you can go to the next one. If you want to change your solution, just run the code again and input the new solution, it will overwrite the previous one. At the end of the assignment, you will be able to check if you have forgotten to save any question. \n",
    "\n",
    "Once you finish the assignment, you may submit it as you usually would. Your most recently save answers to each exercise will then be graded."
   ]
  },
  {
   "cell_type": "markdown",
   "id": "4546a127",
   "metadata": {},
   "source": [
    "## 4 - Some concept clarifications 🎲🎲🎲\n",
    "\n",
    "During this assignment you will be presented with various scenarios that involve dice. Usually dice can have different numbers of sides and can be either fair or loaded.\n",
    "\n",
    "- A fair dice has equal probability of landing on every side.\n",
    "- A loaded dice does not have equal probability of landing on every side. Usually one (or more) sides have a greater probability of showing up than the rest.\n",
    "\n",
    "Alright, that's all your need to know to complete this assignment. Time to start rolling some dice!"
   ]
  },
  {
   "cell_type": "markdown",
   "id": "c8f09f02",
   "metadata": {},
   "source": [
    "## Exercise 1:\n",
    "\n"
   ]
  },
  {
   "cell_type": "markdown",
   "id": "3510c610",
   "metadata": {},
   "source": [
    "Given a 6-sided fair dice (all of the sides have equal probability of showing up), compute the mean and variance for the probability distribution that models said dice. The next figure shows you a visual represenatation of said distribution:\n",
    "\n",
    "<img src=\"./images/fair_dice.png\" style=\"height: 300px;\"/>\n",
    "\n",
    "**Submission considerations:**\n",
    "- Submit your answers as floating point numbers with three digits after the decimal point\n",
    "- Example: To submit the value of 1/4 enter 0.250"
   ]
  },
  {
   "cell_type": "markdown",
   "id": "5ee9b479",
   "metadata": {},
   "source": [
    "Hints: \n",
    "- You can use [np.random.choice](https://numpy.org/doc/stable/reference/random/generated/numpy.random.choice.html) to simulate a fair dice.\n",
    "- You can use [np.mean](https://numpy.org/doc/stable/reference/generated/numpy.mean.html) and [np.var](https://numpy.org/doc/stable/reference/generated/numpy.var.html) to compute the mean and variance of a numpy array."
   ]
  },
  {
   "cell_type": "code",
   "execution_count": 34,
   "id": "df437e8e",
   "metadata": {},
   "outputs": [
    {
     "name": "stdout",
     "output_type": "stream",
     "text": [
      "Mean: 3.568\n",
      "Variance: 2.8853760000000004\n"
     ]
    }
   ],
   "source": [
    "# You can use this cell for your calculations (not graded)\n",
    "def compute_mean_and_variance(num_rolls):\n",
    "    \"\"\"\n",
    "    This function computes the mean and variance of the probability distribution of a fair 6-sided dice.\n",
    "\n",
    "    Args:\n",
    "    - num_rolls: The number of times to roll the dice.\n",
    "\n",
    "    Returns:\n",
    "    - A tuple containing the mean and variance of the probability distribution.\n",
    "    \"\"\"\n",
    "    dice_rolls = np.random.randint(1, 7, size=num_rolls)  # Rolling a fair 6-sided dice\n",
    "    mean = np.mean(dice_rolls)\n",
    "    variance = np.var(dice_rolls)\n",
    "    return mean, variance\n",
    "\n",
    "# Simulate rolling the dice 1000 times\n",
    "mean, variance = compute_mean_and_variance(1000)\n",
    "\n",
    "# Print the results\n",
    "print(\"Mean:\", mean)\n",
    "print(\"Variance:\", variance)\n"
   ]
  },
  {
   "cell_type": "code",
   "execution_count": 35,
   "id": "db9477e7",
   "metadata": {},
   "outputs": [
    {
     "data": {
      "application/vnd.jupyter.widget-view+json": {
       "model_id": "47d3e480241b4277880cbb1cf478a8f5",
       "version_major": 2,
       "version_minor": 0
      },
      "text/plain": [
       "FloatText(value=0.0, description='Mean:')"
      ]
     },
     "metadata": {},
     "output_type": "display_data"
    },
    {
     "data": {
      "application/vnd.jupyter.widget-view+json": {
       "model_id": "7762a4e55b0343bba5d098e9f5bcb9bd",
       "version_major": 2,
       "version_minor": 0
      },
      "text/plain": [
       "FloatText(value=0.0, description='Variance:')"
      ]
     },
     "metadata": {},
     "output_type": "display_data"
    },
    {
     "data": {
      "application/vnd.jupyter.widget-view+json": {
       "model_id": "989dcbd4384c40f3a65b7a0521141f7a",
       "version_major": 2,
       "version_minor": 0
      },
      "text/plain": [
       "Button(button_style='success', description='Save your answer!', style=ButtonStyle())"
      ]
     },
     "metadata": {},
     "output_type": "display_data"
    },
    {
     "data": {
      "application/vnd.jupyter.widget-view+json": {
       "model_id": "db1d75278cee4e4c8a1cc9f426651453",
       "version_major": 2,
       "version_minor": 0
      },
      "text/plain": [
       "Output()"
      ]
     },
     "metadata": {},
     "output_type": "display_data"
    }
   ],
   "source": [
    "# Run this cell to submit your answer\n",
    "utils.exercise_1()"
   ]
  },
  {
   "cell_type": "markdown",
   "id": "d43dcbbd",
   "metadata": {},
   "source": [
    "## Exercise 2:\n",
    "\n",
    "Now suppose you are throwing the dice (same dice as in the previous exercise) two times and recording the sum of each throw. Which of the following `probability mass functions` will be the one you should get?\n",
    "\n",
    "<table><tr>\n",
    "<td> <img src=\"./images/hist_sum_6_side.png\" style=\"height: 300px;\"/> </td>\n",
    "<td> <img src=\"./images/hist_sum_5_side.png\" style=\"height: 300px;\"/> </td>\n",
    "<td> <img src=\"./images/hist_sum_6_uf.png\" style=\"height: 300px;\"/> </td>\n",
    "</tr></table>\n"
   ]
  },
  {
   "cell_type": "markdown",
   "id": "605c58c0",
   "metadata": {},
   "source": [
    "Hints: \n",
    "- You can use numpy arrays to hold the results of many throws.\n",
    "- You can sum to numpy arrays by using the `+` operator like this: `sum = first_throw + second_throw`\n",
    "- To simulate multiple throws of a dice you can use list comprehension or a for loop"
   ]
  },
  {
   "cell_type": "code",
   "execution_count": 37,
   "id": "e9a8b2ed",
   "metadata": {},
   "outputs": [
    {
     "name": "stdout",
     "output_type": "stream",
     "text": [
      "[0.0285 0.0533 0.0792 0.1197 0.1427 0.1644 0.134  0.114  0.0823 0.0534\n",
      " 0.0285 0.    ]\n"
     ]
    }
   ],
   "source": [
    "# You can use this cell for your calculations (not graded)\n",
    "\n",
    "def pmf_two_dice(n_sims):\n",
    "    \"\"\"\n",
    "    This function computes the PMF of the sum of two dice throws.\n",
    "\n",
    "    Args:\n",
    "    n_sims: The number of simulations to perform.\n",
    "\n",
    "    Returns:\n",
    "    A dictionary containing the PMF.\n",
    "    \"\"\"\n",
    "    dice_throws = np.random.randint(1, 7, size=(n_sims, 2))\n",
    "    dice_sum = np.sum(dice_throws, axis=1)\n",
    "    pmf = np.zeros(12)\n",
    "    for val in dice_sum:\n",
    "        pmf[val - 2] += 1\n",
    "    pmf /= n_sims\n",
    "    return pmf\n",
    "\n",
    "# Simulate 10000 dice throws\n",
    "pmf = pmf_two_dice(10000)\n",
    "\n",
    "# Print the PMF\n",
    "print(pmf)"
   ]
  },
  {
   "cell_type": "code",
   "execution_count": 38,
   "id": "d4d5dcf9",
   "metadata": {},
   "outputs": [
    {
     "data": {
      "application/vnd.jupyter.widget-view+json": {
       "model_id": "c148df2aad85493587dc663ab843927b",
       "version_major": 2,
       "version_minor": 0
      },
      "text/plain": [
       "ToggleButtons(description='Your answer:', options=('left', 'center', 'right'), value='left')"
      ]
     },
     "metadata": {},
     "output_type": "display_data"
    },
    {
     "data": {
      "application/vnd.jupyter.widget-view+json": {
       "model_id": "83606564b9cc4736ae5985af9207f986",
       "version_major": 2,
       "version_minor": 0
      },
      "text/plain": [
       "Button(button_style='success', description='Save your answer!', style=ButtonStyle())"
      ]
     },
     "metadata": {},
     "output_type": "display_data"
    },
    {
     "data": {
      "application/vnd.jupyter.widget-view+json": {
       "model_id": "4e572d7cf6ab42698d45ff72834f0f98",
       "version_major": 2,
       "version_minor": 0
      },
      "text/plain": [
       "Output()"
      ]
     },
     "metadata": {},
     "output_type": "display_data"
    }
   ],
   "source": [
    "# Run this cell to submit your answer\n",
    "utils.exercise_2()"
   ]
  },
  {
   "cell_type": "markdown",
   "id": "adfb889c",
   "metadata": {},
   "source": [
    "## Exercise 3:\n",
    "\n",
    "Given a fair 4-sided dice, you throw it two times and record the sum. The figure on the left shows the probabilities of the dice landing on each side and the right figure the histogram of the sum. Fill out the probabilities of each sum (notice that the distribution of the sum is symetrical so you only need to input 4 values in total):\n",
    "\n",
    "<img src=\"./images/4_side_hists.png\" style=\"height: 300px;\"/>\n",
    "\n",
    "**Submission considerations:**\n",
    "- Submit your answers as floating point numbers with three digits after the decimal point\n",
    "- Example: To submit the value of 1/4 enter 0.250"
   ]
  },
  {
   "cell_type": "code",
   "execution_count": 39,
   "id": "342ca685",
   "metadata": {},
   "outputs": [
    {
     "data": {
      "image/png": "[encoded data removed]",
      "text/plain": [
       "<Figure size 640x480 with 1 Axes>"
      ]
     },
     "metadata": {},
     "output_type": "display_data"
    }
   ],
   "source": [
    "# You can use this cell for your calculations (not graded)\n",
    "def pmf_two_dice(sides):\n",
    "    \"\"\"\n",
    "    This function computes the PMF of the sum of two dice throws.\n",
    "\n",
    "    Args:\n",
    "    sides: The number of sides on each die.\n",
    "\n",
    "    Returns:\n",
    "    A dictionary containing the PMF.\n",
    "    \"\"\"\n",
    "    dice_throws = np.random.randint(1, sides + 1, size=(10000, 2))\n",
    "    dice_sum = np.sum(dice_throws, axis=1)\n",
    "    pmf = np.zeros(sides * 2)\n",
    "    for val in dice_sum:\n",
    "        pmf[val - 1] += 1\n",
    "    pmf /= 10000\n",
    "    return pmf\n",
    "\n",
    "# Simulate 10000 dice throws\n",
    "sides = 4\n",
    "pmf = pmf_two_dice(sides)\n",
    "\n",
    "# Create a bar chart of the PMF\n",
    "plt.bar(range(1, sides * 2 + 1), pmf)\n",
    "plt.xlabel(\"Sum of dice throws\")\n",
    "plt.ylabel(\"Probability\")\n",
    "plt.title(\"PMF of the sum of two dice throws (\" + str(sides) + \"-sided dice)\")\n",
    "plt.xticks(range(1, sides * 2 + 1))\n",
    "plt.show()\n"
   ]
  },
  {
   "cell_type": "code",
   "execution_count": 40,
   "id": "e0a24beb",
   "metadata": {},
   "outputs": [
    {
     "data": {
      "application/vnd.jupyter.widget-view+json": {
       "model_id": "04091577f67248a6af6b089927590f53",
       "version_major": 2,
       "version_minor": 0
      },
      "text/plain": [
       "FloatText(value=0.0, description='P for sum=2|8', style=DescriptionStyle(description_width='initial'))"
      ]
     },
     "metadata": {},
     "output_type": "display_data"
    },
    {
     "data": {
      "application/vnd.jupyter.widget-view+json": {
       "model_id": "d01831884eff4a408bb0c082559daf55",
       "version_major": 2,
       "version_minor": 0
      },
      "text/plain": [
       "FloatText(value=0.0, description='P for sum=3|7:', style=DescriptionStyle(description_width='initial'))"
      ]
     },
     "metadata": {},
     "output_type": "display_data"
    },
    {
     "data": {
      "application/vnd.jupyter.widget-view+json": {
       "model_id": "999941f89ee7450ead021c466c286574",
       "version_major": 2,
       "version_minor": 0
      },
      "text/plain": [
       "FloatText(value=0.0, description='P for sum=4|6:', style=DescriptionStyle(description_width='initial'))"
      ]
     },
     "metadata": {},
     "output_type": "display_data"
    },
    {
     "data": {
      "application/vnd.jupyter.widget-view+json": {
       "model_id": "0e8ba667affd4444a8e0273478717d56",
       "version_major": 2,
       "version_minor": 0
      },
      "text/plain": [
       "FloatText(value=0.0, description='P for sum=5:', style=DescriptionStyle(description_width='initial'))"
      ]
     },
     "metadata": {},
     "output_type": "display_data"
    },
    {
     "data": {
      "application/vnd.jupyter.widget-view+json": {
       "model_id": "db52447ce2144b53863f895e3627e06e",
       "version_major": 2,
       "version_minor": 0
      },
      "text/plain": [
       "Button(button_style='success', description='Save your answer!', style=ButtonStyle())"
      ]
     },
     "metadata": {},
     "output_type": "display_data"
    },
    {
     "data": {
      "application/vnd.jupyter.widget-view+json": {
       "model_id": "ef829339daa14f0db225cf828c217cae",
       "version_major": 2,
       "version_minor": 0
      },
      "text/plain": [
       "Output()"
      ]
     },
     "metadata": {},
     "output_type": "display_data"
    }
   ],
   "source": [
    "# Run this cell to submit your answer\n",
    "utils.exercise_3()"
   ]
  },
  {
   "cell_type": "markdown",
   "id": "108837bd",
   "metadata": {},
   "source": [
    "## Exercise 4:\n",
    "\n",
    "Using the same scenario as in the previous exercise. Compute the mean and variance of the sum of the two throws  and the covariance between the first and the second throw:\n",
    "\n",
    "<img src=\"./images/4_sided_hist_no_prob.png\" style=\"height: 300px;\"/>\n",
    "\n",
    "\n",
    "Hints:\n",
    "- You can use [np.cov](https://numpy.org/doc/stable/reference/generated/numpy.cov.html) to compute the covariance of two numpy arrays (this may not be needed for this particular exercise)."
   ]
  },
  {
   "cell_type": "code",
   "execution_count": null,
   "id": "f4eadc3c",
   "metadata": {},
   "outputs": [],
   "source": [
    "def compute_mean_variance_covariance(num_rolls):\n",
    "    \"\"\"\n",
    "    This function computes the mean, variance, and covariance of the sum of two dice rolls.\n",
    "\n",
    "    Args:\n",
    "      num_rolls: The number of times to roll the dice.\n",
    "\n",
    "    Returns:\n",
    "      A tuple containing the mean, variance, and covariance.\n",
    "    \"\"\"\n",
    "    dice_rolls = np.random.randint(1, 7, size=(num_rolls, 2))  # Rolling a fair 6-sided dice\n",
    "    sum_of_dice = np.sum(dice_rolls, axis=1)\n",
    "    mean_sum = np.mean(sum_of_dice)\n",
    "    variance_sum = np.var(sum_of_dice, ddof=1)  # Use ddof=1 for unbiased variance estimation\n",
    "    covariance = np.cov(dice_rolls[:, 0], dice_rolls[:, 1])[0, 1]  # Covariance between two dice rolls\n",
    "    return mean_sum, variance_sum, covariance\n",
    "\n",
    "# Simulate rolling the dice 1000 times\n",
    "mean, variance, covariance = compute_mean_variance_covariance(1000)\n",
    "\n",
    "# Print the results\n",
    "print(\"Mean of sum of dice:\", mean)\n",
    "print(\"Variance of sum of dice:\", variance)\n",
    "print(\"Covariance of dice rolls:\", covariance)# You can use this cell for your calculations (not graded)\n",
    "def compute_mean_variance_covariance(num_rolls):\n",
    "    \"\"\"\n",
    "    This function computes the mean, variance, and covariance of the sum of two dice rolls.\n",
    "\n",
    "    Args:\n",
    "      num_rolls: The number of times to roll the dice.\n",
    "\n",
    "    Returns:\n",
    "      A tuple containing the mean, variance, and covariance.\n",
    "    \"\"\"\n",
    "    dice_rolls = np.random.randint(1, 7, size=(num_rolls, 2))  # Rolling a fair 6-sided dice\n",
    "    sum_of_dice = np.sum(dice_rolls, axis=1)\n",
    "    mean_sum = np.mean(sum_of_dice)\n",
    "    variance_sum = np.var(sum_of_dice, ddof=1)  # Use ddof=1 for unbiased variance estimation\n",
    "    covariance = np.cov(dice_rolls[:, 0], dice_rolls[:, 1])[0, 1]  # Covariance between two dice rolls\n",
    "    return mean_sum, variance_sum, covariance\n",
    "\n",
    "# Simulate rolling the dice 1000 times\n",
    "mean, variance, covariance = compute_mean_variance_covariance(1000)\n",
    "\n",
    "# Print the results\n",
    "print(\"Mean of sum of dice:\", mean)\n",
    "print(\"Variance of sum of dice:\", variance)\n",
    "print(\"Covariance of dice rolls:\", covariance)\n"
   ]
  },
  {
   "cell_type": "code",
   "execution_count": 41,
   "id": "4e662b9b",
   "metadata": {},
   "outputs": [
    {
     "data": {
      "application/vnd.jupyter.widget-view+json": {
       "model_id": "f701352a1658411584d0bbdea15e47b3",
       "version_major": 2,
       "version_minor": 0
      },
      "text/plain": [
       "FloatText(value=0.0, description='Mean:')"
      ]
     },
     "metadata": {},
     "output_type": "display_data"
    },
    {
     "data": {
      "application/vnd.jupyter.widget-view+json": {
       "model_id": "826af355b1504e6c9d0ff2963f3b7c4c",
       "version_major": 2,
       "version_minor": 0
      },
      "text/plain": [
       "FloatText(value=0.0, description='Variance:')"
      ]
     },
     "metadata": {},
     "output_type": "display_data"
    },
    {
     "data": {
      "application/vnd.jupyter.widget-view+json": {
       "model_id": "d0800d543f1949668e207cc95417e01d",
       "version_major": 2,
       "version_minor": 0
      },
      "text/plain": [
       "FloatText(value=0.0, description='Covariance:')"
      ]
     },
     "metadata": {},
     "output_type": "display_data"
    },
    {
     "data": {
      "application/vnd.jupyter.widget-view+json": {
       "model_id": "f103d16d39904511a68df83559653394",
       "version_major": 2,
       "version_minor": 0
      },
      "text/plain": [
       "Button(button_style='success', description='Save your answer!', style=ButtonStyle())"
      ]
     },
     "metadata": {},
     "output_type": "display_data"
    },
    {
     "data": {
      "application/vnd.jupyter.widget-view+json": {
       "model_id": "d5ddb1969b9d4b11af7d9ca56410010c",
       "version_major": 2,
       "version_minor": 0
      },
      "text/plain": [
       "Output()"
      ]
     },
     "metadata": {},
     "output_type": "display_data"
    }
   ],
   "source": [
    "# Run this cell to submit your answer\n",
    "utils.exercise_4()"
   ]
  },
  {
   "cell_type": "markdown",
   "id": "714e099b",
   "metadata": {},
   "source": [
    "## Exercise 5:\n",
    "\n",
    "\n",
    "Now suppose you are have a loaded 4-sided dice (it is loaded so that it lands twice as often on side 2 compared to the other sides): \n",
    "\n",
    "\n",
    "<img src=\"./images/4_side_uf.png\" style=\"height: 300px;\"/>\n",
    "\n",
    "You are throwing it two times and recording the sum of each throw. Which of the following `probability mass functions` will be the one you should get?\n",
    "\n",
    "<table><tr>\n",
    "<td> <img src=\"./images/hist_sum_4_4l.png\" style=\"height: 300px;\"/> </td>\n",
    "<td> <img src=\"./images/hist_sum_4_3l.png\" style=\"height: 300px;\"/> </td>\n",
    "<td> <img src=\"./images/hist_sum_4_uf.png\" style=\"height: 300px;\"/> </td>\n",
    "</tr></table>"
   ]
  },
  {
   "cell_type": "markdown",
   "id": "ecb27c1b",
   "metadata": {},
   "source": [
    "Hints: \n",
    "- You can use the `p` parameter of [np.random.choice](https://numpy.org/doc/stable/reference/random/generated/numpy.random.choice.html) to simulate a loaded dice."
   ]
  },
  {
   "cell_type": "code",
   "execution_count": null,
   "id": "a35573ec",
   "metadata": {},
   "outputs": [],
   "source": [
    "def pmf_two_dice(p, sides):\n",
    "    \"\"\"\n",
    "    This function computes the PMF of the sum of two dice throws for a loaded dice.\n",
    "\n",
    "    Args:\n",
    "      p: The probability of landing on side 2.\n",
    "      sides: The number of sides on each die.\n",
    "\n",
    "    Returns:\n",
    "      A dictionary containing the PMF.\n",
    "    \"\"\"\n",
    "    # Create a custom probability distribution for the loaded dice (repeated for each die)\n",
    "    p_custom = np.repeat([p, 1 - p], sides)  # Repeat probabilities for each side\n",
    "    dice_throws = np.random.choice(sides, size=(10000, 2), p=p_custom)\n",
    "    dice_sum = np.sum(dice_throws, axis=1)\n",
    "    pmf = np.zeros(sides * 2)\n",
    "    for val in dice_sum:\n",
    "        pmf[val - 2] += 1  # Adjust index to start from 0\n",
    "    pmf /= 10000\n",
    "    return pmf.tolist()  # Convert to list for better readability\n",
    "\n",
    "# Simulate 10000 dice throws\n",
    "p = 0.2  # Probability of landing on side 2\n",
    "sides = 4\n",
    "pmf = pmf_two_dice(p, sides)\n",
    "\n",
    "# Print the PMF\n",
    "print(pmf)"
   ]
  },
  {
   "cell_type": "code",
   "execution_count": 42,
   "id": "3104e647",
   "metadata": {},
   "outputs": [
    {
     "data": {
      "application/vnd.jupyter.widget-view+json": {
       "model_id": "4a51fffa738f47868b0881213fa977d9",
       "version_major": 2,
       "version_minor": 0
      },
      "text/plain": [
       "ToggleButtons(description='Your answer:', options=('left', 'center', 'right'), value='left')"
      ]
     },
     "metadata": {},
     "output_type": "display_data"
    },
    {
     "data": {
      "application/vnd.jupyter.widget-view+json": {
       "model_id": "69ff5b499d504c1c8e9f8f964d71952d",
       "version_major": 2,
       "version_minor": 0
      },
      "text/plain": [
       "Button(button_style='success', description='Save your answer!', style=ButtonStyle())"
      ]
     },
     "metadata": {},
     "output_type": "display_data"
    },
    {
     "data": {
      "application/vnd.jupyter.widget-view+json": {
       "model_id": "589451fc2b994a85a0c03eeef6abb4e8",
       "version_major": 2,
       "version_minor": 0
      },
      "text/plain": [
       "Output()"
      ]
     },
     "metadata": {},
     "output_type": "display_data"
    }
   ],
   "source": [
    "# Run this cell to submit your answer\n",
    "utils.exercise_5()"
   ]
  },
  {
   "cell_type": "markdown",
   "id": "0d0f3429",
   "metadata": {},
   "source": [
    "## Exercise 6:\n",
    "\n",
    "You have a 6-sided dice that is loaded so that it lands twice as often on side 3 compared to the other sides:\n",
    "\n",
    "<img src=\"./images/loaded_6_side.png\" style=\"height: 300px;\"/>\n",
    "\n",
    "You record the sum of throwing it twice. What is the highest value (of the sum) that will yield a cumulative probability lower or equal to 0.5?\n",
    "\n",
    "<img src=\"./images/loaded_6_cdf.png\" style=\"height: 300px;\"/>\n",
    "\n",
    "Hints:\n",
    "- The probability of side 3 is equal to $\\frac{2}{7}$"
   ]
  },
  {
   "cell_type": "code",
   "execution_count": null,
   "id": "10feaaa8",
   "metadata": {},
   "outputs": [],
   "source": [
    "# You can use this cell for your calculations (not graded)\n",
    "\n",
    "def cdf_two_dice(p, sides):\n",
    "    \"\"\"\n",
    "    This function computes the CDF of the sum of two dice throws for a loaded dice.\n",
    "\n",
    "    Args:\n",
    "      p: The probability of landing on side 3.\n",
    "      sides: The number of sides on each die.\n",
    "\n",
    "    Returns:\n",
    "      A list containing the CDF.\n",
    "    \"\"\"\n",
    "    # Create a custom probability distribution for the loaded dice\n",
    "    p_custom = np.array([p, p, p, 1 - 3 * p, 1 - 3 * p, 1 - 3 * p])\n",
    "    dice_throws = np.random.choice(np.arange(1, sides + 1), size=(10000, 2), p=p_custom)\n",
    "    dice_sum = np.sum(dice_throws, axis=1)\n",
    "    cdf = np.zeros(sides * 2)\n",
    "    for i in range(1, sides * 2 + 1):\n",
    "        cdf[i - 1] = np.sum(dice_sum <= i) / 10000\n",
    "    return cdf, sides * 2  # Return the CDF and the maximum possible sum\n",
    "\n",
    "# Simulate 10000 dice throws\n",
    "p = 1/3  # Probability of landing on side 3 (twice as often as other sides)\n",
    "sides = 6\n",
    "cdf, max_sum = cdf_two_dice(p, sides)\n",
    "\n",
    "# Plot the CDF\n",
    "plt.plot(range(1, max_sum + 1), cdf)\n",
    "plt.xlabel(\"Sum of dice throws\")\n",
    "plt.ylabel(\"CDF\")\n",
    "plt.title(\"CDF of the sum of two dice throws (loaded dice)\")\n",
    "plt.xticks(range(1, max_sum + 1))\n",
    "plt.grid(True)\n",
    "plt.show()"
   ]
  },
  {
   "cell_type": "code",
   "execution_count": 43,
   "id": "963e5763",
   "metadata": {},
   "outputs": [
    {
     "data": {
      "application/vnd.jupyter.widget-view+json": {
       "model_id": "ed08a933345d4a0f9187418c7a08ed1a",
       "version_major": 2,
       "version_minor": 0
      },
      "text/plain": [
       "IntSlider(value=2, continuous_update=False, description='Sum:', max=12, min=2)"
      ]
     },
     "metadata": {},
     "output_type": "display_data"
    },
    {
     "data": {
      "application/vnd.jupyter.widget-view+json": {
       "model_id": "6af11084cde042d89c84fb6751cbecba",
       "version_major": 2,
       "version_minor": 0
      },
      "text/plain": [
       "Button(button_style='success', description='Save your answer!', style=ButtonStyle())"
      ]
     },
     "metadata": {},
     "output_type": "display_data"
    },
    {
     "data": {
      "application/vnd.jupyter.widget-view+json": {
       "model_id": "f09d68b556fc4043aa186865de59ab6c",
       "version_major": 2,
       "version_minor": 0
      },
      "text/plain": [
       "Output()"
      ]
     },
     "metadata": {},
     "output_type": "display_data"
    }
   ],
   "source": [
    "# Run this cell to submit your answer\n",
    "utils.exercise_6()"
   ]
  },
  {
   "cell_type": "markdown",
   "id": "f6684426",
   "metadata": {},
   "source": [
    "## Exercise 7:\n",
    "\n",
    "Given a 6-sided fair dice you try a new game. You only throw the dice a second time if the result of the first throw is **lower** or equal to 3. Which of the following `probability mass functions` will be the one you should get given this new constraint?\n",
    "\n",
    "<table><tr>\n",
    "<td> <img src=\"./images/6_sided_cond_green.png\" style=\"height: 250px;\"/> </td>\n",
    "<td> <img src=\"./images/6_sided_cond_blue.png\" style=\"height: 250px;\"/> </td>\n",
    "<td> <img src=\"./images/6_sided_cond_red.png\" style=\"height: 250px;\"/> </td>\n",
    "<td> <img src=\"./images/6_sided_cond_brown.png\" style=\"height: 250px;\"/> </td>\n",
    "\n",
    "</tr></table>\n",
    "\n",
    "Hints:\n",
    "- You can simulate the second throws as a numpy array and then make the values that met a certain criteria equal to 0 by using [np.where](https://numpy.org/doc/stable/reference/generated/numpy.where.html)"
   ]
  },
  {
   "cell_type": "code",
   "execution_count": null,
   "id": "9e64d178",
   "metadata": {},
   "outputs": [],
   "source": [
    "# You can use this cell for your calculations (not graded)\n",
    "\n",
    "def pmf_two_dice(p, sides):\n",
    "    \"\"\"\n",
    "    This function computes the PMF of the sum of two dice throws for a loaded dice.\n",
    "\n",
    "    Args:\n",
    "      p: The probability of landing on side 3.\n",
    "      sides: The number of sides on each die.\n",
    "\n",
    "    Returns:\n",
    "      A dictionary containing the PMF.\n",
    "    \"\"\"\n",
    "    # Create a custom probability distribution for the loaded dice\n",
    "    p_custom = np.array([p, p, p, 1 - 3 * p, 1 - 3 * p, 1 - 3 * p])\n",
    "    dice_throws = np.random.choice(np.arange(1, sides + 1), size=(10000, 2), p=p_custom)\n",
    "    dice_sum = np.sum(dice_throws, axis=1)\n",
    "    pmf = np.zeros(sides * 2)\n",
    "    for val in dice_sum:\n",
    "        pmf[val - 2] += 1  # Adjust index to start from 0\n",
    "    pmf /= 10000\n",
    "    return pmf.tolist()  # Convert to list for better readability\n",
    "\n",
    "# Simulate 10000 dice throws\n",
    "p = 1/3  # Probability of landing on side 3 (twice as often as other sides)\n",
    "sides = 6\n",
    "pmf = pmf_two_dice(p, sides)\n",
    "\n",
    "# Print the PMF\n",
    "print(pmf)"
   ]
  },
  {
   "cell_type": "code",
   "execution_count": 44,
   "id": "82a4db40",
   "metadata": {},
   "outputs": [
    {
     "data": {
      "application/vnd.jupyter.widget-view+json": {
       "model_id": "d9ae76e957fc48898eb357425a61800e",
       "version_major": 2,
       "version_minor": 0
      },
      "text/plain": [
       "ToggleButtons(description='Your answer:', options=('left-most', 'left-center', 'right-center', 'right-most'), …"
      ]
     },
     "metadata": {},
     "output_type": "display_data"
    },
    {
     "data": {
      "application/vnd.jupyter.widget-view+json": {
       "model_id": "2bab3078e22e49b19fc11464f0d6bb79",
       "version_major": 2,
       "version_minor": 0
      },
      "text/plain": [
       "Button(button_style='success', description='Save your answer!', style=ButtonStyle())"
      ]
     },
     "metadata": {},
     "output_type": "display_data"
    },
    {
     "data": {
      "application/vnd.jupyter.widget-view+json": {
       "model_id": "86a3bdddb8ff492f846b1b88c0d4fa17",
       "version_major": 2,
       "version_minor": 0
      },
      "text/plain": [
       "Output()"
      ]
     },
     "metadata": {},
     "output_type": "display_data"
    }
   ],
   "source": [
    "# Run this cell to submit your answer\n",
    "utils.exercise_7()"
   ]
  },
  {
   "cell_type": "markdown",
   "id": "ba973eaf",
   "metadata": {},
   "source": [
    "## Exercise 8:\n",
    "\n",
    "Given the same scenario as in the previous exercise but with the twist that you only throw the dice a second time if the result of the first throw is **greater** or equal to 3. Which of the following `probability mass functions` will be the one you should get given this new constraint?\n",
    "\n",
    "<table><tr>\n",
    "<td> <img src=\"./images/6_sided_cond_green2.png\" style=\"height: 250px;\"/> </td>\n",
    "<td> <img src=\"./images/6_sided_cond_blue2.png\" style=\"height: 250px;\"/> </td>\n",
    "<td> <img src=\"./images/6_sided_cond_red2.png\" style=\"height: 250px;\"/> </td>\n",
    "<td> <img src=\"./images/6_sided_cond_brown2.png\" style=\"height: 250px;\"/> </td>\n",
    "\n",
    "</tr></table>\n"
   ]
  },
  {
   "cell_type": "code",
   "execution_count": null,
   "id": "4d25300f",
   "metadata": {},
   "outputs": [],
   "source": [
    "# You can use this cell for your calculations (not graded)\n",
    "def pmf_two_dice(p, sides):\n",
    "    \"\"\"\n",
    "    This function computes the PMF of the sum of two dice throws for a loaded dice.\n",
    "\n",
    "    Args:\n",
    "      p: The probability of landing on side 3.\n",
    "      sides: The number of sides on each die.\n",
    "\n",
    "    Returns:\n",
    "      A dictionary containing the PMF.\n",
    "    \"\"\"\n",
    "    # Create a custom probability distribution for the loaded dice\n",
    "    p_custom = np.array([p, p, p, 1 - 3 * p, 1 - 3 * p, 1 - 3 * p])\n",
    "    dice_throws = np.random.choice(np.arange(1, sides + 1), size=(10000, 2), p=p_custom)\n",
    "    dice_sum = np.sum(dice_throws, axis=1)\n",
    "    pmf = np.zeros(sides * 2)\n",
    "    for val in dice_sum:\n",
    "        pmf[val - 2] += 1  # Adjust index to start from 0\n",
    "    pmf /= 10000\n",
    "    return pmf.tolist()  # Convert to list for better readability\n",
    "\n",
    "# Simulate 10000 dice throws\n",
    "p = 1/3  # Probability of landing on side 3 (twice as often as other sides)\n",
    "sides = 6\n",
    "pmf = pmf_two_dice(p, sides)\n",
    "\n",
    "# Print the PMF\n",
    "print(pmf)\n"
   ]
  },
  {
   "cell_type": "code",
   "execution_count": 45,
   "id": "33bb9fd2",
   "metadata": {},
   "outputs": [
    {
     "data": {
      "application/vnd.jupyter.widget-view+json": {
       "model_id": "fe33486722bc47c78125af88875e0499",
       "version_major": 2,
       "version_minor": 0
      },
      "text/plain": [
       "ToggleButtons(description='Your answer:', options=('left-most', 'left-center', 'right-center', 'right-most'), …"
      ]
     },
     "metadata": {},
     "output_type": "display_data"
    },
    {
     "data": {
      "application/vnd.jupyter.widget-view+json": {
       "model_id": "29daa5847228477789117fb5a6b8f871",
       "version_major": 2,
       "version_minor": 0
      },
      "text/plain": [
       "Button(button_style='success', description='Save your answer!', style=ButtonStyle())"
      ]
     },
     "metadata": {},
     "output_type": "display_data"
    },
    {
     "data": {
      "application/vnd.jupyter.widget-view+json": {
       "model_id": "692623c782564ee08194e21c85dfe31f",
       "version_major": 2,
       "version_minor": 0
      },
      "text/plain": [
       "Output()"
      ]
     },
     "metadata": {},
     "output_type": "display_data"
    }
   ],
   "source": [
    "# Run this cell to submit your answer\n",
    "utils.exercise_8()"
   ]
  },
  {
   "cell_type": "markdown",
   "id": "017e9b22",
   "metadata": {},
   "source": [
    "## Exercise 9:\n",
    "\n",
    "Given a n-sided fair dice. You throw it twice and record the sum. How does increasing the number of sides `n` of the dice impact the mean and variance of the sum and the covariance of the joint distribution?"
   ]
  },
  {
   "cell_type": "code",
   "execution_count": null,
   "id": "645a9b74",
   "metadata": {},
   "outputs": [],
   "source": [
    "# You can use this cell for your calculations (not graded)\n",
    "def variance_two_dice(sides):\n",
    "  \"\"\"\n",
    "  This function computes the variance of the sum of two dice throws.\n",
    "\n",
    "  Args:\n",
    "    sides: The number of sides on each die.\n",
    "\n",
    "  Returns:\n",
    "    The variance of the sum of two dice throws.\n",
    "  \"\"\"\n",
    "  # Create an array of all possible dice sums\n",
    "  dice_sum = np.arange(2, sides * 2 + 1)\n",
    "\n",
    "  # Calculate the probability of each sum (assuming fair dice)\n",
    "  p_fair = np.ones(sides * 2) / (sides**2)\n",
    "\n",
    "  # Calculate the mean of the dice sum\n",
    "  mean = np.sum(dice_sum * p_fair)\n",
    "\n",
    "  # Calculate the squared deviations from the mean\n",
    "  squared_dev = (dice_sum - mean)**2\n",
    "\n",
    "  # Calculate the variance\n",
    "  variance = np.sum(squared_dev * p_fair)\n",
    "\n",
    "  return variance\n",
    "\n",
    "# Compute variance for different numbers of sides\n",
    "num_sides = range(2, 13)  # Try from 2 to 12 sides\n",
    "variances = [variance_two_dice(sides) for sides in num_sides]\n",
    "\n",
    "# Print the results\n",
    "print(\"Number of sides\\t Variance\")\n",
    "for i, sides in enumerate(num_sides):\n",
    "  print(f\"{sides}\\t\\t {variances[i]:.4f}\")\n"
   ]
  },
  {
   "cell_type": "code",
   "execution_count": 46,
   "id": "907412da",
   "metadata": {},
   "outputs": [
    {
     "name": "stdout",
     "output_type": "stream",
     "text": [
      "As the number of sides in the die increases:\n"
     ]
    },
    {
     "data": {
      "application/vnd.jupyter.widget-view+json": {
       "model_id": "2e0d1d5854b745aa90810990518a4767",
       "version_major": 2,
       "version_minor": 0
      },
      "text/plain": [
       "ToggleButtons(description='The mean of the sum:', options=('stays the same', 'increases', 'decreases'), value=…"
      ]
     },
     "metadata": {},
     "output_type": "display_data"
    },
    {
     "data": {
      "application/vnd.jupyter.widget-view+json": {
       "model_id": "4c102d5a04144c079974a92aadf137b7",
       "version_major": 2,
       "version_minor": 0
      },
      "text/plain": [
       "ToggleButtons(description='The variance of the sum:', options=('stays the same', 'increases', 'decreases'), va…"
      ]
     },
     "metadata": {},
     "output_type": "display_data"
    },
    {
     "data": {
      "application/vnd.jupyter.widget-view+json": {
       "model_id": "607d13eb952e41dfa046dce1dacf359d",
       "version_major": 2,
       "version_minor": 0
      },
      "text/plain": [
       "ToggleButtons(description='The covariance of the joint distribution:', options=('stays the same', 'increases',…"
      ]
     },
     "metadata": {},
     "output_type": "display_data"
    },
    {
     "data": {
      "application/vnd.jupyter.widget-view+json": {
       "model_id": "dda2155dcef64fe595783dbba48499cc",
       "version_major": 2,
       "version_minor": 0
      },
      "text/plain": [
       "Button(button_style='success', description='Save your answer!', style=ButtonStyle())"
      ]
     },
     "metadata": {},
     "output_type": "display_data"
    },
    {
     "data": {
      "application/vnd.jupyter.widget-view+json": {
       "model_id": "6580a1615c924e5ca1480cea4deeceb1",
       "version_major": 2,
       "version_minor": 0
      },
      "text/plain": [
       "Output()"
      ]
     },
     "metadata": {},
     "output_type": "display_data"
    }
   ],
   "source": [
    "# Run this cell to submit your answer\n",
    "utils.exercise_9()"
   ]
  },
  {
   "cell_type": "markdown",
   "id": "fcf9b3ac",
   "metadata": {},
   "source": [
    "## Exercise 10:\n",
    "\n",
    "Given a 6-sided loaded dice. You throw it twice and record the sum. Which of the following statemets is true?"
   ]
  },
  {
   "cell_type": "code",
   "execution_count": null,
   "id": "008c5858",
   "metadata": {},
   "outputs": [],
   "source": [
    "# You can use this cell for your calculations (not graded)\n",
    "\n",
    "def pmf_two_dice(p, sides):\n",
    "    \"\"\"\n",
    "    This function computes the PMF of the sum of two dice throws for a loaded dice.\n",
    "\n",
    "    Args:\n",
    "      p: The probability of landing on side 3.\n",
    "      sides: The number of sides on each die.\n",
    "\n",
    "    Returns:\n",
    "      A dictionary containing the PMF.\n",
    "    \"\"\"\n",
    "    # Create a custom probability distribution for the loaded dice\n",
    "    p_custom = np.array([p, p, p, 1 - 3 * p, 1 - 3 * p, 1 - 3 * p])\n",
    "    pmf = np.zeros(sides * 2)\n",
    "    \n",
    "    for i in range(1, sides + 1):\n",
    "        for j in range(1, sides + 1):\n",
    "            pmf[i + j - 2] += p_custom[i - 1] * p_custom[j - 1]\n",
    "            \n",
    "    return pmf / np.sum(pmf)  # Normalize to get PMF\n",
    "\n",
    "# Simulate 10000 dice throws\n",
    "p = 1/3  # Probability of landing on side 3 (twice as often as other sides)\n",
    "sides = 6\n",
    "pmf = pmf_two_dice(p, sides)\n",
    "\n",
    "# Print the PMF\n",
    "print(pmf)"
   ]
  },
  {
   "cell_type": "code",
   "execution_count": 47,
   "id": "99373567",
   "metadata": {},
   "outputs": [
    {
     "data": {
      "application/vnd.jupyter.widget-view+json": {
       "model_id": "1093c15845ab4dc48c98780b8c538aa8",
       "version_major": 2,
       "version_minor": 0
      },
      "text/plain": [
       "RadioButtons(layout=Layout(width='max-content'), options=('the mean and variance is the same regardless of whi…"
      ]
     },
     "metadata": {},
     "output_type": "display_data"
    },
    {
     "data": {
      "application/vnd.jupyter.widget-view+json": {
       "model_id": "33305d7b526445d996e74cf20aabf312",
       "version_major": 2,
       "version_minor": 0
      },
      "text/plain": [
       "Button(button_style='success', description='Save your answer!', style=ButtonStyle())"
      ]
     },
     "metadata": {},
     "output_type": "display_data"
    },
    {
     "data": {
      "application/vnd.jupyter.widget-view+json": {
       "model_id": "440c2e3f636347f09d7c908811e0563f",
       "version_major": 2,
       "version_minor": 0
      },
      "text/plain": [
       "Output()"
      ]
     },
     "metadata": {},
     "output_type": "display_data"
    }
   ],
   "source": [
    "# Run this cell to submit your answer\n",
    "utils.exercise_10()"
   ]
  },
  {
   "cell_type": "markdown",
   "id": "f8a1a8a3",
   "metadata": {},
   "source": [
    "## Exercise 11:\n",
    "\n",
    "Given a n-sided dice (could be fair or not). You throw it twice and record the sum (there is no dependance between the throws). If you are only given the histogram of the sums can you use it to know which are the probabilities of the dice landing on each side?\n",
    "\n",
    "In other words, if you are provided with only the histogram of the sums like this one:\n",
    "<td> <img src=\"./images/hist_sum_6_side.png\" style=\"height: 300px;\"/> </td>\n",
    "\n",
    "Could you use it to know the probabilities of the dice landing on each side? Which will be equivalent to finding this histogram:\n",
    "<img src=\"./images/fair_dice.png\" style=\"height: 300px;\"/>\n"
   ]
  },
  {
   "cell_type": "code",
   "execution_count": null,
   "id": "b42149cf",
   "metadata": {},
   "outputs": [],
   "source": [
    "# You can use this cell for your calculations (not graded)\n",
    "\n",
    "def pmf_two_dice(p, sides):\n",
    "    \"\"\"\n",
    "    This function computes the PMF of the sum of two dice throws for a loaded dice.\n",
    "\n",
    "    Args:\n",
    "      p: The probability of landing on side 3.\n",
    "      sides: The number of sides on each die.\n",
    "\n",
    "    Returns:\n",
    "      A dictionary containing the PMF.\n",
    "    \"\"\"\n",
    "    # Create a custom probability distribution for the loaded dice\n",
    "    p_custom = np.array([p, p, p, 1 - 3 * p, 1 - 3 * p, 1 - 3 * p])\n",
    "    pmf = np.zeros(sides * 2)\n",
    "    \n",
    "    for i in range(1, sides + 1):\n",
    "        for j in range(1, sides + 1):\n",
    "            pmf[i + j - 2] += p_custom[i - 1] * p_custom[j - 1]\n",
    "            \n",
    "    return pmf / np.sum(pmf)  # Normalize to get PMF\n",
    "\n",
    "def mean_two_dice(p, sides):\n",
    "    \"\"\"\n",
    "    This function computes the mean of the sum of two dice throws for a loaded dice.\n",
    "\n",
    "    Args:\n",
    "      p: The probability of landing on side 3.\n",
    "      sides: The number of sides on each die.\n",
    "\n",
    "    Returns:\n",
    "      The mean of the sum of two dice throws.\n",
    "    \"\"\"\n",
    "    # Create a custom probability distribution for the loaded dice\n",
    "    p_custom = np.array([p, p, p, 1 - 3 * p, 1 - 3 * p, 1 - 3 * p])\n",
    "    \n",
    "    mean = 0\n",
    "    for i in range(1, sides + 1):\n",
    "        for j in range(1, sides + 1):\n",
    "            mean += (i + j) * p * p_custom[i - 1] * p_custom[j - 1]\n",
    "    return mean\n",
    "\n",
    "# Simulate 10000 dice throws\n",
    "p = 1/3  # Probability of landing on side 3 (twice as often as other sides)\n",
    "sides = 6\n",
    "pmf = pmf_two_dice(p, sides)\n",
    "\n",
    "# Calculate the mean\n",
    "mean = mean_two_dice(p, sides)\n",
    "\n",
    "# Print the PMF and mean\n",
    "print(\"PMF:\", pmf)\n",
    "print(\"Mean:\", mean)"
   ]
  },
  {
   "cell_type": "code",
   "execution_count": 48,
   "id": "33a2e4d9",
   "metadata": {},
   "outputs": [
    {
     "data": {
      "application/vnd.jupyter.widget-view+json": {
       "model_id": "6ab0425bd0ec4360a44f2ace363ffc34",
       "version_major": 2,
       "version_minor": 0
      },
      "text/plain": [
       "RadioButtons(layout=Layout(width='max-content'), options=('yes, but only if one of the sides is loaded', 'no, …"
      ]
     },
     "metadata": {},
     "output_type": "display_data"
    },
    {
     "data": {
      "application/vnd.jupyter.widget-view+json": {
       "model_id": "50f36e01982047aab8ff3aa3430b7afe",
       "version_major": 2,
       "version_minor": 0
      },
      "text/plain": [
       "Button(button_style='success', description='Save your answer!', style=ButtonStyle())"
      ]
     },
     "metadata": {},
     "output_type": "display_data"
    },
    {
     "data": {
      "application/vnd.jupyter.widget-view+json": {
       "model_id": "c1cb5c6914a648688facd25c14998faf",
       "version_major": 2,
       "version_minor": 0
      },
      "text/plain": [
       "Output()"
      ]
     },
     "metadata": {},
     "output_type": "display_data"
    }
   ],
   "source": [
    "# Run this cell to submit your answer\n",
    "utils.exercise_11()"
   ]
  },
  {
   "cell_type": "markdown",
   "id": "1635ca7c",
   "metadata": {},
   "source": [
    "## Before Submitting Your Assignment\n",
    "\n",
    "Run the next cell to check that you have answered all of the exercises"
   ]
  },
  {
   "cell_type": "code",
   "execution_count": 49,
   "id": "c6822278",
   "metadata": {},
   "outputs": [
    {
     "name": "stdout",
     "output_type": "stream",
     "text": [
      "All answers saved, you can submit the assignment for grading!\n"
     ]
    }
   ],
   "source": [
    "utils.check_submissions()"
   ]
  },
  {
   "cell_type": "markdown",
   "id": "5286008f",
   "metadata": {},
   "source": [
    "**Congratulations on finishing this assignment!**\n",
    "\n",
    "During this assignment you tested your knowledge on probability distributions, descriptive statistics and visual interpretation of these concepts. You had the choice to compute everything analytically or create simulations to assist you get the right answer. You probably also realized that some exercises could be answered without any computations just by looking at certain hidden queues that the visualizations revealed.\n",
    "\n",
    "**Keep up the good work!**\n"
   ]
  }
 ],
 "metadata": {
  "kernelspec": {
   "display_name": "Python 3 (ipykernel)",
   "language": "python",
   "name": "python3"
  },
  "language_info": {
   "codemirror_mode": {
    "name": "ipython",
    "version": 3
   },
   "file_extension": ".py",
   "mimetype": "text/x-python",
   "name": "python",
   "nbconvert_exporter": "python",
   "pygments_lexer": "ipython3",
   "version": "3.10.11"
  }
 },
 "nbformat": 4,
 "nbformat_minor": 5
}
